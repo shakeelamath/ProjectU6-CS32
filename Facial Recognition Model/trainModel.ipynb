{
 "cells": [
  {
   "cell_type": "code",
   "execution_count": null,
   "metadata": {},
   "outputs": [],
   "source": [
    "#import required packages\n",
    "from keras import Sequential\n",
    "from keras.layers import Dense, Conv2D, Flatten, Dropout, MaxPooling2D\n",
    "from keras.optimizers import Adam\n",
    "from keras.preprocessing.image import ImageDataGenerator\n",
    "import tensorflow as tf\n",
    "\n",
    "#Initialize image data generator with rescaling\n",
    "train_data_gen = ImageDataGenerator(rescale=1./255)\n",
    "validation_data_gen = ImageDataGenerator(rescale=1./255)\n",
    "\n",
    "#Preprocess all test images\n",
    "train_generator = train_data_gen.flow_from_directory(\n",
    "    'archive/train',\n",
    "    target_size=(48, 48),\n",
    "    batch_size=64,\n",
    "    color_mode=\"grayscale\",\n",
    "    class_mode=\"categorical\")\n",
    "\n",
    "#Preprocess all train images\n",
    "validation_generator = validation_data_gen.flow_from_directory(\n",
    "    'archive/test',\n",
    "    target_size=(48, 48),\n",
    "    batch_size=64,\n",
    "    color_mode=\"grayscale\",\n",
    "    class_mode=\"categorical\")\n",
    "\n",
    "#Create model structure\n",
    "emotion_detection_model = Sequential()\n",
    "\n",
    "emotion_detection_model.add(Conv2D(32, kernel_size=(3, 3), activation='relu', input_shape=(48, 48, 1)))\n",
    "emotion_detection_model.add(Conv2D(64, kernel_size=(3, 3), activation='relu'))\n",
    "emotion_detection_model.add(MaxPooling2D(pool_size=(2, 2)))\n",
    "emotion_detection_model.add(Dropout(0.25))\n",
    "\n",
    "emotion_detection_model.add(Conv2D(128, kernel_size=(3, 3), activation='relu'))\n",
    "emotion_detection_model.add(MaxPooling2D(pool_size=(2, 2)))\n",
    "emotion_detection_model.add(Conv2D(128, kernel_size=(3, 3), activation='relu'))\n",
    "emotion_detection_model.add(MaxPooling2D(pool_size=(2, 2)))\n",
    "emotion_detection_model.add(Dropout(0.25))\n",
    "\n",
    "emotion_detection_model.add(Flatten())\n",
    "emotion_detection_model.add(Dense(1024, activation='relu'))\n",
    "emotion_detection_model.add(Dropout(0.5))\n",
    "emotion_detection_model.add(Dense(7, activation='softmax'))\n",
    "\n",
    "emotion_detection_model.compile(loss='categorical_crossentropy', optimizer=Adam(learning_rate=0.0001, decay=1e-6), metrics=['accuracy'])\n",
    "\n",
    "# Train the neural network/model\n",
    "emotion_detection_model_info = emotion_detection_model.fit(\n",
    "        train_generator,\n",
    "        y=None,\n",
    "        steps_per_epoch=28709 // 64,\n",
    "        epochs=80,\n",
    "        validation_data=validation_generator,\n",
    "        validation_steps=7178 // 64,\n",
    "        )\n",
    "\n",
    "# save model structure in json file\n",
    "model_json = emotion_detection_model.to_json()\n",
    "with open(\"emotion_detection_model.json\", \"w\") as json_file:\n",
    "    json_file.write(model_json)\n",
    "\n",
    "# save trained model weight in .h5 file\n",
    "emotion_detection_model.save_weights('emotion_detection_model.h5')\n"
   ]
  },
  {
   "cell_type": "code",
   "execution_count": null,
   "metadata": {},
   "outputs": [],
   "source": [
    "import tensorflow as tf\n",
    "from keras.models import model_from_json\n",
    "\n",
    "json_file = open(\"C:\\\\Users\\\\ASUS\\\\OneDrive\\\\Documents\\\\sdgp new\\\\Project-Flutter---Musify---MusicApplication-main\\\\Facial Recognition Model\\emotion_detection_model.json\", 'r')\n",
    "loaded_model_json = json_file.read()\n",
    "json_file.close()\n",
    "emotion_detection_model = model_from_json(loaded_model_json)\n",
    "\n",
    "# load weights into new model\n",
    "emotion_detection_model.load_weights(\"C:\\\\Users\\\\ASUS\\\\OneDrive\\\\Documents\\\\sdgp new\\\\Project-Flutter---Musify---MusicApplication-main\\\\Facial Recognition Model\\\\emotion_detection_model.h5\")\n",
    "\n",
    "converter = tf.lite.TFLiteConverter.from_keras_model(model=emotion_detection_model)\n",
    "tflite_model = converter.convert()\n",
    "\n",
    "with open('model.tflite', 'wb') as f:\n",
    "    f.write(tflite_model)"
   ]
  }
 ],
 "metadata": {
  "kernelspec": {
   "display_name": "keras",
   "language": "python",
   "name": "python3"
  },
  "language_info": {
   "codemirror_mode": {
    "name": "ipython",
    "version": 3
   },
   "file_extension": ".py",
   "mimetype": "text/x-python",
   "name": "python",
   "nbconvert_exporter": "python",
   "pygments_lexer": "ipython3",
   "version": "3.10.10"
  },
  "orig_nbformat": 4,
  "vscode": {
   "interpreter": {
    "hash": "2892d292b0cc7c583c5859636aac84e4f2cca23263ca7e44f297b13e1423cd06"
   }
  }
 },
 "nbformat": 4,
 "nbformat_minor": 2
}
